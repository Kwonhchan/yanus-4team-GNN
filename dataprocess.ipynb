{
 "cells": [
  {
   "cell_type": "markdown",
   "metadata": {},
   "source": [
    "## Import"
   ]
  },
  {
   "cell_type": "code",
   "execution_count": 30,
   "metadata": {},
   "outputs": [],
   "source": [
    "import pandas as pd\n",
    "import numpy as np"
   ]
  },
  {
   "cell_type": "code",
   "execution_count": 31,
   "metadata": {},
   "outputs": [
    {
     "name": "stdout",
     "output_type": "stream",
     "text": [
      "   VISIT_AREA_ID  TRAVEL_ID  VISIT_ORDER VISIT_AREA_NM VISIT_START_YMD  \\\n",
      "0     2210300006  a_a015688            5        프로방스마을      2022-10-30   \n",
      "1     2208050001  a_a000164            1        친구/친지집      2022-08-05   \n",
      "2     2210030002  a_a004293            2       병점역 1호선      2022-10-03   \n",
      "3     2208200003  a_a000491           12         더현대서울      2022-08-20   \n",
      "4     2208110007  a_a000172           13        강릉중앙시장      2022-08-11   \n",
      "\n",
      "  VISIT_END_YMD        ROAD_NM_ADDR           LOTNO_ADDR     X_COORD  \\\n",
      "0    2022-10-30  경기 파주시 탄현면 새오리로 77  경기 파주시 탄현면 성동리 82-1  126.685239   \n",
      "1    2022-08-05                 NaN       경기도 안산시 단원구 와동         NaN   \n",
      "2    2022-10-03      경기 화성시 떡전골로 97     경기 화성시 진안동 824-1  127.033200   \n",
      "3    2022-08-20    서울 영등포구 여의대로 108      서울 영등포구 여의도동 22  126.928446   \n",
      "4    2022-08-11       강원 강릉시 금성로 21        강원 강릉시 성남동 50  128.898624   \n",
      "\n",
      "     Y_COORD  ...  POI_NM RESIDENCE_TIME_MIN VISIT_AREA_TYPE_CD REVISIT_YN  \\\n",
      "0  37.790405  ...     NaN               60.0                  7          Y   \n",
      "1        NaN  ...     NaN                NaN                 22        NaN   \n",
      "2  37.206753  ...     병점역               30.0                  9          Y   \n",
      "3  37.525872  ...     NaN              180.0                  4          N   \n",
      "4  37.754025  ...    신흥수산               30.0                  4          N   \n",
      "\n",
      "   VISIT_CHC_REASON_CD  LODGING_TYPE_CD DGSTFN  REVISIT_INTENTION  \\\n",
      "0                  9.0              NaN    4.0                4.0   \n",
      "1                  NaN              NaN    NaN                NaN   \n",
      "2                  6.0              NaN    4.0                5.0   \n",
      "3                  2.0              NaN    5.0                5.0   \n",
      "4                  1.0              NaN    4.0                4.0   \n",
      "\n",
      "   RCMDTN_INTENTION   SGG_CD  \n",
      "0               4.0      NaN  \n",
      "1               NaN  41273.0  \n",
      "2               5.0      NaN  \n",
      "3               5.0      NaN  \n",
      "4               4.0      NaN  \n",
      "\n",
      "[5 rows x 23 columns]\n"
     ]
    }
   ],
   "source": [
    "df1 = pd.read_csv(\"Dataset\\수도권_방문지_데이터_1.csv\")\n",
    "df2 = pd.read_csv(\"Dataset\\수도권_방문지_데이터_2.csv\")\n",
    "\n",
    "print(df1.head(5))"
   ]
  },
  {
   "cell_type": "code",
   "execution_count": 32,
   "metadata": {},
   "outputs": [
    {
     "name": "stdout",
     "output_type": "stream",
     "text": [
      "   VISIT_AREA_ID  TRAVEL_ID  VISIT_ORDER  VISIT_AREA_NM VISIT_START_YMD  \\\n",
      "0     2210090001  a_a003999            1              집      2022-10-09   \n",
      "1     2208290001  a_a000605           14      캐니언파크 평택점      2022-08-29   \n",
      "2     2208050008  a_a000104            8  육회왕자&연어공주 동교점      2022-08-05   \n",
      "3     2210080006  a_a006203            6            친구집      2022-10-08   \n",
      "4     2208180004  a_a000198           17           광장시장      2022-08-18   \n",
      "\n",
      "  VISIT_END_YMD         ROAD_NM_ADDR       LOTNO_ADDR     X_COORD    Y_COORD  \\\n",
      "0    2022-10-09                  NaN              NaN         NaN        NaN   \n",
      "1    2022-08-29       경기 평택시 비전5로 10  경기 평택시 비전동 1104  127.112541  36.999181   \n",
      "2    2022-08-05  서울 마포구 어울마당로 133 2층    서울특별시 마포구 동교동  126.924624  37.556223   \n",
      "3    2022-10-09                  NaN              NaN         NaN        NaN   \n",
      "4    2022-08-18       서울 종로구 창경궁로 88   서울 종로구 예지동 2-1  126.998949  37.570028   \n",
      "\n",
      "   ...  POI_NM RESIDENCE_TIME_MIN VISIT_AREA_TYPE_CD REVISIT_YN  \\\n",
      "0  ...     NaN                NaN                 21        NaN   \n",
      "1  ...     NaN               90.0                  6          N   \n",
      "2  ...     NaN               90.0                 11          N   \n",
      "3  ...     NaN              810.0                 22        NaN   \n",
      "4  ...     NaN               90.0                  4          Y   \n",
      "\n",
      "   VISIT_CHC_REASON_CD  LODGING_TYPE_CD DGSTFN  REVISIT_INTENTION  \\\n",
      "0                  NaN              NaN    NaN                NaN   \n",
      "1                  3.0              NaN    5.0                5.0   \n",
      "2                  9.0              NaN    3.0                2.0   \n",
      "3                  NaN              NaN    NaN                NaN   \n",
      "4                  6.0              NaN    4.0                4.0   \n",
      "\n",
      "   RCMDTN_INTENTION   SGG_CD  \n",
      "0               NaN  26470.0  \n",
      "1               5.0      NaN  \n",
      "2               3.0  11440.0  \n",
      "3               NaN  41287.0  \n",
      "4               4.0      NaN  \n",
      "\n",
      "[5 rows x 23 columns]\n"
     ]
    }
   ],
   "source": [
    "print(df2.head(5))"
   ]
  },
  {
   "cell_type": "markdown",
   "metadata": {},
   "source": [
    "# 방문지 데이터 전처리 진행"
   ]
  },
  {
   "cell_type": "markdown",
   "metadata": {},
   "source": [
    "## 필요없는 칼럼 삭제"
   ]
  },
  {
   "cell_type": "code",
   "execution_count": 33,
   "metadata": {},
   "outputs": [
    {
     "name": "stdout",
     "output_type": "stream",
     "text": [
      "   TRAVEL_ID VISIT_AREA_NM        ROAD_NM_ADDR           LOTNO_ADDR  \\\n",
      "0  a_a015688        프로방스마을  경기 파주시 탄현면 새오리로 77  경기 파주시 탄현면 성동리 82-1   \n",
      "1  a_a000164        친구/친지집                 NaN       경기도 안산시 단원구 와동   \n",
      "2  a_a004293       병점역 1호선      경기 화성시 떡전골로 97     경기 화성시 진안동 824-1   \n",
      "3  a_a000491         더현대서울    서울 영등포구 여의대로 108      서울 영등포구 여의도동 22   \n",
      "4  a_a000172        강릉중앙시장       강원 강릉시 금성로 21        강원 강릉시 성남동 50   \n",
      "\n",
      "   RESIDENCE_TIME_MIN  DGSTFN  REVISIT_INTENTION  RCMDTN_INTENTION  \n",
      "0                60.0     4.0                4.0               4.0  \n",
      "1                 NaN     NaN                NaN               NaN  \n",
      "2                30.0     4.0                5.0               5.0  \n",
      "3               180.0     5.0                5.0               5.0  \n",
      "4                30.0     4.0                4.0               4.0  \n"
     ]
    }
   ],
   "source": [
    "df1_copy = df1.copy()\n",
    "df1_copy = df1.drop(['VISIT_AREA_ID','VISIT_ORDER','VISIT_START_YMD','VISIT_END_YMD','X_COORD','Y_COORD','ROAD_NM_CD','LOTNO_CD','POI_ID','POI_NM','VISIT_AREA_TYPE_CD','REVISIT_YN','VISIT_CHC_REASON_CD','LODGING_TYPE_CD','SGG_CD'], axis=1)\n",
    "print(df1_copy.head())"
   ]
  },
  {
   "cell_type": "markdown",
   "metadata": {},
   "source": [
    "## 집, 숙소, 친구/친지집 삭제"
   ]
  },
  {
   "cell_type": "code",
   "execution_count": 34,
   "metadata": {},
   "outputs": [],
   "source": [
    "removeValue = ['집', '숙소', '친구/친지집']\n",
    "df_filtered = df1_copy[~df1_copy['VISIT_AREA_NM'].isin(removeValue)]"
   ]
  },
  {
   "cell_type": "code",
   "execution_count": 35,
   "metadata": {},
   "outputs": [
    {
     "name": "stdout",
     "output_type": "stream",
     "text": [
      "   TRAVEL_ID VISIT_AREA_NM        ROAD_NM_ADDR           LOTNO_ADDR  \\\n",
      "0  a_a015688        프로방스마을  경기 파주시 탄현면 새오리로 77  경기 파주시 탄현면 성동리 82-1   \n",
      "2  a_a004293       병점역 1호선      경기 화성시 떡전골로 97     경기 화성시 진안동 824-1   \n",
      "3  a_a000491         더현대서울    서울 영등포구 여의대로 108      서울 영등포구 여의도동 22   \n",
      "4  a_a000172        강릉중앙시장       강원 강릉시 금성로 21        강원 강릉시 성남동 50   \n",
      "5  a_a000554           청계천                 NaN       서울 종로구 서린동 148   \n",
      "\n",
      "   RESIDENCE_TIME_MIN  DGSTFN  REVISIT_INTENTION  RCMDTN_INTENTION  \n",
      "0                60.0     4.0                4.0               4.0  \n",
      "2                30.0     4.0                5.0               5.0  \n",
      "3               180.0     5.0                5.0               5.0  \n",
      "4                30.0     4.0                4.0               4.0  \n",
      "5                60.0     4.0                4.0               4.0  \n"
     ]
    }
   ],
   "source": [
    "print(df_filtered.head())"
   ]
  },
  {
   "cell_type": "markdown",
   "metadata": {},
   "source": [
    "## 아파트, 오피스텔, 지하철, 펜션, 호텔값 제거"
   ]
  },
  {
   "cell_type": "code",
   "execution_count": 36,
   "metadata": {},
   "outputs": [
    {
     "name": "stdout",
     "output_type": "stream",
     "text": [
      "    TRAVEL_ID VISIT_AREA_NM        ROAD_NM_ADDR             LOTNO_ADDR  \\\n",
      "0   a_a015688        프로방스마을  경기 파주시 탄현면 새오리로 77    경기 파주시 탄현면 성동리 82-1   \n",
      "3   a_a000491         더현대서울    서울 영등포구 여의대로 108        서울 영등포구 여의도동 22   \n",
      "4   a_a000172        강릉중앙시장       강원 강릉시 금성로 21          강원 강릉시 성남동 50   \n",
      "5   a_a000554           청계천                 NaN         서울 종로구 서린동 148   \n",
      "8   a_a006024         장안순대국  경기 수원시 팔달구 화서문로 58    경기 수원시 팔달구 신풍동 25-1   \n",
      "10  a_a003557         유일닭강정  경기 가평군 가평읍 가화로 122   경기 가평군 가평읍 읍내리 471-2   \n",
      "11  a_a000962         숙이네닭발   서울 용산구 우사단로10길 47     서울 용산구 한남동 732-148   \n",
      "13  d_d004175    베드스테이션 선릉점    서울 강남구 선릉로92길 41      서울 강남구 삼성동 142-24   \n",
      "17  a_a003234    서울 그로서리 클럽   서울 서대문구 연희로11가길 8                    NaN   \n",
      "18  a_a004298      제부도 워터워크                 NaN  경기 화성시 서신면 송교리 377-46   \n",
      "\n",
      "    RESIDENCE_TIME_MIN  DGSTFN  REVISIT_INTENTION  RCMDTN_INTENTION  \n",
      "0                 60.0     4.0                4.0               4.0  \n",
      "3                180.0     5.0                5.0               5.0  \n",
      "4                 30.0     4.0                4.0               4.0  \n",
      "5                 60.0     4.0                4.0               4.0  \n",
      "8                 30.0     4.0                3.0               3.0  \n",
      "10                30.0     4.0                3.0               3.0  \n",
      "11               120.0     5.0                5.0               5.0  \n",
      "13               120.0     5.0                5.0               5.0  \n",
      "17                30.0     4.0                3.0               3.0  \n",
      "18                 0.0     2.0                3.0               3.0  \n"
     ]
    }
   ],
   "source": [
    "df_filtered = df_filtered[~df_filtered['VISIT_AREA_NM'].str.contains('아파트|오피스텔|호선|펜션|호텔')]\n",
    "print(df_filtered.head(10))"
   ]
  },
  {
   "cell_type": "markdown",
   "metadata": {},
   "source": [
    "## 주소 결측치, 도로명 주소로 통합 및 도로명 없을 시 원래 주소로 통합"
   ]
  },
  {
   "cell_type": "code",
   "execution_count": 37,
   "metadata": {},
   "outputs": [
    {
     "name": "stdout",
     "output_type": "stream",
     "text": [
      "    TRAVEL_ID VISIT_AREA_NM  RESIDENCE_TIME_MIN  DGSTFN  REVISIT_INTENTION  \\\n",
      "0   a_a015688        프로방스마을                60.0     4.0                4.0   \n",
      "3   a_a000491         더현대서울               180.0     5.0                5.0   \n",
      "4   a_a000172        강릉중앙시장                30.0     4.0                4.0   \n",
      "5   a_a000554           청계천                60.0     4.0                4.0   \n",
      "8   a_a006024         장안순대국                30.0     4.0                3.0   \n",
      "10  a_a003557         유일닭강정                30.0     4.0                3.0   \n",
      "11  a_a000962         숙이네닭발               120.0     5.0                5.0   \n",
      "13  d_d004175    베드스테이션 선릉점               120.0     5.0                5.0   \n",
      "17  a_a003234    서울 그로서리 클럽                30.0     4.0                3.0   \n",
      "18  a_a004298      제부도 워터워크                 0.0     2.0                3.0   \n",
      "19  a_a018121       의정부제일시장                60.0     5.0                5.0   \n",
      "20  a_a002636           서울역                 0.0     5.0                5.0   \n",
      "21  a_a006165  넘버25 수원화성행궁점               150.0     4.0                3.0   \n",
      "22  a_a009473     대소버스공동정류장                30.0     4.0                4.0   \n",
      "23  a_a004051     청주시외버스터미널                 0.0     4.0                4.0   \n",
      "\n",
      "    RCMDTN_INTENTION           COMBINED_ADDR  \n",
      "0                4.0      경기 파주시 탄현면 새오리로 77  \n",
      "3                5.0        서울 영등포구 여의대로 108  \n",
      "4                4.0           강원 강릉시 금성로 21  \n",
      "5                4.0          서울 종로구 서린동 148  \n",
      "8                3.0      경기 수원시 팔달구 화서문로 58  \n",
      "10               3.0      경기 가평군 가평읍 가화로 122  \n",
      "11               5.0       서울 용산구 우사단로10길 47  \n",
      "13               5.0        서울 강남구 선릉로92길 41  \n",
      "17               3.0       서울 서대문구 연희로11가길 8  \n",
      "18               3.0   경기 화성시 서신면 송교리 377-46  \n",
      "19               5.0      경기 의정부시 태평로73번길 20  \n",
      "20               5.0         서울 용산구 한강대로 405  \n",
      "21               3.0  경기 수원시 팔달구 정조로810번길 20  \n",
      "22               4.0      충북 음성군 대소면 산내로 308  \n",
      "23               3.0        충북 청주시 흥덕구 풍산로 6  \n"
     ]
    }
   ],
   "source": [
    "# ROAD_NM_ADDR과 LOTNO_ADDR을 하나의 열로 합치기\n",
    "df_filtered['COMBINED_ADDR'] = df_filtered['ROAD_NM_ADDR'].fillna(df_filtered['LOTNO_ADDR'])\n",
    "# 기존 열 제거\n",
    "df_filtered.drop(['ROAD_NM_ADDR', 'LOTNO_ADDR'], axis=1, inplace=True)\n",
    "# 결측치 행 제거\n",
    "df_filtered.dropna(subset=['COMBINED_ADDR'], inplace=True)\n",
    "\n",
    "print(df_filtered.head(15))"
   ]
  },
  {
   "cell_type": "markdown",
   "metadata": {},
   "source": [
    "## 만족도(DFSTFN), 재방문의도(REVISIT_INTENTION), 추천하고싶은점수(RCMDTN_INTENTION), 체류시간(RESIDENCE_TIME_MIN) 결측치 처리(중앙값)"
   ]
  },
  {
   "cell_type": "code",
   "execution_count": 40,
   "metadata": {},
   "outputs": [
    {
     "name": "stdout",
     "output_type": "stream",
     "text": [
      "    TRAVEL_ID  VISIT_AREA_NM  RESIDENCE_TIME_MIN  DGSTFN  REVISIT_INTENTION  \\\n",
      "0   a_a015688         프로방스마을                60.0     4.0                4.0   \n",
      "3   a_a000491          더현대서울               180.0     5.0                5.0   \n",
      "4   a_a000172         강릉중앙시장                30.0     4.0                4.0   \n",
      "5   a_a000554            청계천                60.0     4.0                4.0   \n",
      "8   a_a006024          장안순대국                30.0     4.0                3.0   \n",
      "10  a_a003557          유일닭강정                30.0     4.0                3.0   \n",
      "11  a_a000962          숙이네닭발               120.0     5.0                5.0   \n",
      "13  d_d004175     베드스테이션 선릉점               120.0     5.0                5.0   \n",
      "17  a_a003234     서울 그로서리 클럽                30.0     4.0                3.0   \n",
      "18  a_a004298       제부도 워터워크                 0.0     2.0                3.0   \n",
      "19  a_a018121        의정부제일시장                60.0     5.0                5.0   \n",
      "20  a_a002636            서울역                 0.0     5.0                5.0   \n",
      "21  a_a006165   넘버25 수원화성행궁점               150.0     4.0                3.0   \n",
      "22  a_a009473      대소버스공동정류장                30.0     4.0                4.0   \n",
      "23  a_a004051      청주시외버스터미널                 0.0     4.0                4.0   \n",
      "24  a_a003810          더현대서울                90.0     5.0                5.0   \n",
      "25  a_a000537            경복궁                30.0     3.0                3.0   \n",
      "26  a_a002158          도새기식당                60.0     5.0                5.0   \n",
      "28  a_a002400  갤러리아백화점 타임월드점                30.0     3.0                3.0   \n",
      "29  a_a009740         집나온거북이                60.0     4.0                3.0   \n",
      "\n",
      "    RCMDTN_INTENTION           COMBINED_ADDR  \n",
      "0                4.0      경기 파주시 탄현면 새오리로 77  \n",
      "3                5.0        서울 영등포구 여의대로 108  \n",
      "4                4.0           강원 강릉시 금성로 21  \n",
      "5                4.0          서울 종로구 서린동 148  \n",
      "8                3.0      경기 수원시 팔달구 화서문로 58  \n",
      "10               3.0      경기 가평군 가평읍 가화로 122  \n",
      "11               5.0       서울 용산구 우사단로10길 47  \n",
      "13               5.0        서울 강남구 선릉로92길 41  \n",
      "17               3.0       서울 서대문구 연희로11가길 8  \n",
      "18               3.0   경기 화성시 서신면 송교리 377-46  \n",
      "19               5.0      경기 의정부시 태평로73번길 20  \n",
      "20               5.0         서울 용산구 한강대로 405  \n",
      "21               3.0  경기 수원시 팔달구 정조로810번길 20  \n",
      "22               4.0      충북 음성군 대소면 산내로 308  \n",
      "23               3.0        충북 청주시 흥덕구 풍산로 6  \n",
      "24               5.0        서울 영등포구 여의대로 108  \n",
      "25               3.0          서울 종로구 사직로 161  \n",
      "26               5.0        서울 은평구 갈현로 254-1  \n",
      "28               3.0          대전 서구 대덕대로 211  \n",
      "29               3.0          서울 종로구 돈화문로 61  \n"
     ]
    }
   ],
   "source": [
    "tdf = df_filtered\n",
    "\n",
    "# 중앙값 계산\n",
    "median_dgstfn = tdf['DGSTFN'].median()\n",
    "median_revisit_intention = tdf['REVISIT_INTENTION'].median()\n",
    "median_rcmdtn_intention = tdf['RCMDTN_INTENTION'].median()\n",
    "median_residence_time = tdf['RESIDENCE_TIME_MIN'].median()\n",
    "\n",
    "# 결측치를 중앙값으로 대체\n",
    "tdf['DGSTFN'].fillna(median_dgstfn, inplace=True)\n",
    "tdf['REVISIT_INTENTION'].fillna(median_revisit_intention, inplace=True)\n",
    "tdf['RCMDTN_INTENTION'].fillna(median_rcmdtn_intention, inplace=True)\n",
    "tdf['RESIDENCE_TIME_MIN'].fillna(median_residence_time, inplace=True)\n",
    "\n",
    "# 결과 확인\n",
    "print(tdf.head(20))"
   ]
  },
  {
   "cell_type": "markdown",
   "metadata": {},
   "source": [
    "## 결측치 확인"
   ]
  },
  {
   "cell_type": "code",
   "execution_count": 42,
   "metadata": {},
   "outputs": [
    {
     "name": "stdout",
     "output_type": "stream",
     "text": [
      "결측치가 있는 열:\n",
      "Series([], dtype: int64)\n"
     ]
    }
   ],
   "source": [
    "#결측치 열 확인\n",
    "missing_values =  tdf.isnull().sum()\n",
    "print(\"결측치가 있는 열:\")\n",
    "print(missing_values[missing_values > 0])"
   ]
  },
  {
   "cell_type": "markdown",
   "metadata": {},
   "source": [
    "## csv로 저장"
   ]
  },
  {
   "cell_type": "code",
   "execution_count": 44,
   "metadata": {},
   "outputs": [],
   "source": [
    "tdf.to_csv('Dataset/전완_수도권방문지데이터_1.csv', index=False)"
   ]
  }
 ],
 "metadata": {
  "kernelspec": {
   "display_name": "AllLeave",
   "language": "python",
   "name": "python3"
  },
  "language_info": {
   "codemirror_mode": {
    "name": "ipython",
    "version": 3
   },
   "file_extension": ".py",
   "mimetype": "text/x-python",
   "name": "python",
   "nbconvert_exporter": "python",
   "pygments_lexer": "ipython3",
   "version": "3.11.4"
  }
 },
 "nbformat": 4,
 "nbformat_minor": 2
}
