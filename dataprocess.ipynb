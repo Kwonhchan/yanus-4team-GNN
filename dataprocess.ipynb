{
 "cells": [
  {
   "cell_type": "markdown",
   "metadata": {},
   "source": [
    "## Import"
   ]
  },
  {
   "cell_type": "code",
   "execution_count": 1,
   "metadata": {},
   "outputs": [],
   "source": [
    "import pandas as pd\n",
    "import numpy as np"
   ]
  },
  {
   "cell_type": "code",
   "execution_count": 4,
   "metadata": {},
   "outputs": [
    {
     "name": "stdout",
     "output_type": "stream",
     "text": [
      "   VISIT_AREA_ID  TRAVEL_ID  VISIT_ORDER VISIT_AREA_NM VISIT_START_YMD  \\\n",
      "0     2210300006  a_a015688            5        프로방스마을      2022-10-30   \n",
      "1     2208050001  a_a000164            1        친구/친지집      2022-08-05   \n",
      "2     2210030002  a_a004293            2       병점역 1호선      2022-10-03   \n",
      "3     2208200003  a_a000491           12         더현대서울      2022-08-20   \n",
      "4     2208110007  a_a000172           13        강릉중앙시장      2022-08-11   \n",
      "\n",
      "  VISIT_END_YMD        ROAD_NM_ADDR           LOTNO_ADDR     X_COORD  \\\n",
      "0    2022-10-30  경기 파주시 탄현면 새오리로 77  경기 파주시 탄현면 성동리 82-1  126.685239   \n",
      "1    2022-08-05                 NaN       경기도 안산시 단원구 와동         NaN   \n",
      "2    2022-10-03      경기 화성시 떡전골로 97     경기 화성시 진안동 824-1  127.033200   \n",
      "3    2022-08-20    서울 영등포구 여의대로 108      서울 영등포구 여의도동 22  126.928446   \n",
      "4    2022-08-11       강원 강릉시 금성로 21        강원 강릉시 성남동 50  128.898624   \n",
      "\n",
      "     Y_COORD  ...  POI_NM RESIDENCE_TIME_MIN VISIT_AREA_TYPE_CD REVISIT_YN  \\\n",
      "0  37.790405  ...     NaN               60.0                  7          Y   \n",
      "1        NaN  ...     NaN                NaN                 22        NaN   \n",
      "2  37.206753  ...     병점역               30.0                  9          Y   \n",
      "3  37.525872  ...     NaN              180.0                  4          N   \n",
      "4  37.754025  ...    신흥수산               30.0                  4          N   \n",
      "\n",
      "   VISIT_CHC_REASON_CD  LODGING_TYPE_CD DGSTFN  REVISIT_INTENTION  \\\n",
      "0                  9.0              NaN    4.0                4.0   \n",
      "1                  NaN              NaN    NaN                NaN   \n",
      "2                  6.0              NaN    4.0                5.0   \n",
      "3                  2.0              NaN    5.0                5.0   \n",
      "4                  1.0              NaN    4.0                4.0   \n",
      "\n",
      "   RCMDTN_INTENTION   SGG_CD  \n",
      "0               4.0      NaN  \n",
      "1               NaN  41273.0  \n",
      "2               5.0      NaN  \n",
      "3               5.0      NaN  \n",
      "4               4.0      NaN  \n",
      "\n",
      "[5 rows x 23 columns]\n"
     ]
    }
   ],
   "source": [
    "df1 = pd.read_csv(\"Dataset\\수도권_방문지_데이터_1.csv\")\n",
    "df2 = pd.read_csv(\"Dataset\\수도권_방문지_데이터_2.csv\")\n",
    "\n",
    "print(df1.head(5))"
   ]
  },
  {
   "cell_type": "code",
   "execution_count": 5,
   "metadata": {},
   "outputs": [
    {
     "name": "stdout",
     "output_type": "stream",
     "text": [
      "   VISIT_AREA_ID  TRAVEL_ID  VISIT_ORDER  VISIT_AREA_NM VISIT_START_YMD  \\\n",
      "0     2210090001  a_a003999            1              집      2022-10-09   \n",
      "1     2208290001  a_a000605           14      캐니언파크 평택점      2022-08-29   \n",
      "2     2208050008  a_a000104            8  육회왕자&연어공주 동교점      2022-08-05   \n",
      "3     2210080006  a_a006203            6            친구집      2022-10-08   \n",
      "4     2208180004  a_a000198           17           광장시장      2022-08-18   \n",
      "\n",
      "  VISIT_END_YMD         ROAD_NM_ADDR       LOTNO_ADDR     X_COORD    Y_COORD  \\\n",
      "0    2022-10-09                  NaN              NaN         NaN        NaN   \n",
      "1    2022-08-29       경기 평택시 비전5로 10  경기 평택시 비전동 1104  127.112541  36.999181   \n",
      "2    2022-08-05  서울 마포구 어울마당로 133 2층    서울특별시 마포구 동교동  126.924624  37.556223   \n",
      "3    2022-10-09                  NaN              NaN         NaN        NaN   \n",
      "4    2022-08-18       서울 종로구 창경궁로 88   서울 종로구 예지동 2-1  126.998949  37.570028   \n",
      "\n",
      "   ...  POI_NM RESIDENCE_TIME_MIN VISIT_AREA_TYPE_CD REVISIT_YN  \\\n",
      "0  ...     NaN                NaN                 21        NaN   \n",
      "1  ...     NaN               90.0                  6          N   \n",
      "2  ...     NaN               90.0                 11          N   \n",
      "3  ...     NaN              810.0                 22        NaN   \n",
      "4  ...     NaN               90.0                  4          Y   \n",
      "\n",
      "   VISIT_CHC_REASON_CD  LODGING_TYPE_CD DGSTFN  REVISIT_INTENTION  \\\n",
      "0                  NaN              NaN    NaN                NaN   \n",
      "1                  3.0              NaN    5.0                5.0   \n",
      "2                  9.0              NaN    3.0                2.0   \n",
      "3                  NaN              NaN    NaN                NaN   \n",
      "4                  6.0              NaN    4.0                4.0   \n",
      "\n",
      "   RCMDTN_INTENTION   SGG_CD  \n",
      "0               NaN  26470.0  \n",
      "1               5.0      NaN  \n",
      "2               3.0  11440.0  \n",
      "3               NaN  41287.0  \n",
      "4               4.0      NaN  \n",
      "\n",
      "[5 rows x 23 columns]\n"
     ]
    }
   ],
   "source": [
    "print(df2.head(5))"
   ]
  },
  {
   "cell_type": "markdown",
   "metadata": {},
   "source": [
    "# 필요없는 칼럼 삭제"
   ]
  },
  {
   "cell_type": "code",
   "execution_count": 8,
   "metadata": {},
   "outputs": [
    {
     "name": "stdout",
     "output_type": "stream",
     "text": [
      "   TRAVEL_ID VISIT_AREA_NM        ROAD_NM_ADDR           LOTNO_ADDR  \\\n",
      "0  a_a015688        프로방스마을  경기 파주시 탄현면 새오리로 77  경기 파주시 탄현면 성동리 82-1   \n",
      "1  a_a000164        친구/친지집                 NaN       경기도 안산시 단원구 와동   \n",
      "2  a_a004293       병점역 1호선      경기 화성시 떡전골로 97     경기 화성시 진안동 824-1   \n",
      "3  a_a000491         더현대서울    서울 영등포구 여의대로 108      서울 영등포구 여의도동 22   \n",
      "4  a_a000172        강릉중앙시장       강원 강릉시 금성로 21        강원 강릉시 성남동 50   \n",
      "\n",
      "   RESIDENCE_TIME_MIN  DGSTFN  REVISIT_INTENTION  RCMDTN_INTENTION  \n",
      "0                60.0     4.0                4.0               4.0  \n",
      "1                 NaN     NaN                NaN               NaN  \n",
      "2                30.0     4.0                5.0               5.0  \n",
      "3               180.0     5.0                5.0               5.0  \n",
      "4                30.0     4.0                4.0               4.0  \n"
     ]
    }
   ],
   "source": [
    "df1_copy = df1.copy()\n",
    "df1_copy = df1.drop(['VISIT_AREA_ID','VISIT_ORDER','VISIT_START_YMD','VISIT_END_YMD','X_COORD','Y_COORD','ROAD_NM_CD','LOTNO_CD','POI_ID','POI_NM','VISIT_AREA_TYPE_CD','REVISIT_YN','VISIT_CHC_REASON_CD','LODGING_TYPE_CD','SGG_CD'], axis=1)\n",
    "print(df1_copy.head())"
   ]
  },
  {
   "cell_type": "code",
   "execution_count": null,
   "metadata": {},
   "outputs": [],
   "source": [
    "removeValue = ['집', '숙소', '친구/친지집']\n",
    "df_filtered = df1_copy[~df1_copy['VISIT_AREA_NM'].isin(removeValue)]\n",
    "df_filtered = df1_copy[~df1_copy['VISIT_AREA_NM'].str.contains('아파트')]\n"
   ]
  }
 ],
 "metadata": {
  "kernelspec": {
   "display_name": "AllLeave",
   "language": "python",
   "name": "python3"
  },
  "language_info": {
   "codemirror_mode": {
    "name": "ipython",
    "version": 3
   },
   "file_extension": ".py",
   "mimetype": "text/x-python",
   "name": "python",
   "nbconvert_exporter": "python",
   "pygments_lexer": "ipython3",
   "version": "3.11.4"
  }
 },
 "nbformat": 4,
 "nbformat_minor": 2
}
