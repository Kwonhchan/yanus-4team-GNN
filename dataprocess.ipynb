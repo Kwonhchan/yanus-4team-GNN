{
 "cells": [
  {
   "cell_type": "markdown",
   "metadata": {},
   "source": [
    "## Import"
   ]
  },
  {
   "cell_type": "code",
   "execution_count": 1,
   "metadata": {},
   "outputs": [],
   "source": [
    "import pandas as pd\n",
    "import numpy as np"
   ]
  },
  {
   "cell_type": "markdown",
   "metadata": {},
   "source": [
    "# 데이터 합치기"
   ]
  },
  {
   "cell_type": "code",
   "execution_count": 2,
   "metadata": {},
   "outputs": [],
   "source": [
    "file_list_place = ['Dataset\\수도권_방문지_데이터_1.csv','Dataset\\수도권_방문지_데이터_2.csv']\n",
    "file_list_user = ['Dataset\\수도권_여행객_데이터_1.csv','Dataset\\수도권_여행객_데이터_2.csv']\n",
    "\n",
    "dfs_place = [pd.read_csv(file) for file in file_list_place]\n",
    "dfs_user = [pd.read_csv(file) for file in file_list_user]\n",
    "\n",
    "merged_df_p = pd.concat(dfs_place, ignore_index=True)\n",
    "merged_df_u = pd.concat(dfs_user, ignore_index=True)\n",
    "\n",
    "merged_df_p.to_csv('Dataset\\통합_방문지데이터.csv', index=False)\n",
    "merged_df_u.to_csv('Dataset\\통합_여행객데이터.csv', index=False)"
   ]
  },
  {
   "cell_type": "markdown",
   "metadata": {},
   "source": [
    "# 방문지 데이터 전처리 진행"
   ]
  },
  {
   "cell_type": "code",
   "execution_count": 3,
   "metadata": {},
   "outputs": [],
   "source": [
    "df1 = pd.read_csv('Dataset\\통합_방문지데이터.csv')"
   ]
  },
  {
   "cell_type": "markdown",
   "metadata": {},
   "source": [
    "## 필요없는 칼럼 삭제"
   ]
  },
  {
   "cell_type": "code",
   "execution_count": 4,
   "metadata": {},
   "outputs": [
    {
     "name": "stdout",
     "output_type": "stream",
     "text": [
      "   TRAVEL_ID VISIT_AREA_NM        ROAD_NM_ADDR           LOTNO_ADDR  \\\n",
      "0  a_a015688        프로방스마을  경기 파주시 탄현면 새오리로 77  경기 파주시 탄현면 성동리 82-1   \n",
      "1  a_a000164        친구/친지집                 NaN       경기도 안산시 단원구 와동   \n",
      "2  a_a004293       병점역 1호선      경기 화성시 떡전골로 97     경기 화성시 진안동 824-1   \n",
      "3  a_a000491         더현대서울    서울 영등포구 여의대로 108      서울 영등포구 여의도동 22   \n",
      "4  a_a000172        강릉중앙시장       강원 강릉시 금성로 21        강원 강릉시 성남동 50   \n",
      "\n",
      "   RESIDENCE_TIME_MIN  DGSTFN  REVISIT_INTENTION  RCMDTN_INTENTION  \n",
      "0                60.0     4.0                4.0               4.0  \n",
      "1                 NaN     NaN                NaN               NaN  \n",
      "2                30.0     4.0                5.0               5.0  \n",
      "3               180.0     5.0                5.0               5.0  \n",
      "4                30.0     4.0                4.0               4.0  \n"
     ]
    }
   ],
   "source": [
    "df1_copy = df1.copy()\n",
    "df1_copy = df1_copy.drop(['VISIT_AREA_ID','VISIT_ORDER','VISIT_START_YMD','VISIT_END_YMD','X_COORD','Y_COORD','ROAD_NM_CD','LOTNO_CD','POI_ID','POI_NM','VISIT_AREA_TYPE_CD','REVISIT_YN','VISIT_CHC_REASON_CD','LODGING_TYPE_CD','SGG_CD'], axis=1)\n",
    "print(df1_copy.head())"
   ]
  },
  {
   "cell_type": "markdown",
   "metadata": {},
   "source": [
    "## 집, 숙소, 친구/친지집 삭제"
   ]
  },
  {
   "cell_type": "code",
   "execution_count": 5,
   "metadata": {},
   "outputs": [],
   "source": [
    "removeValue = ['집', '숙소', '친구/친지집']\n",
    "df_filtered = df1_copy[~df1_copy['VISIT_AREA_NM'].isin(removeValue)]"
   ]
  },
  {
   "cell_type": "code",
   "execution_count": 6,
   "metadata": {},
   "outputs": [
    {
     "name": "stdout",
     "output_type": "stream",
     "text": [
      "   TRAVEL_ID VISIT_AREA_NM        ROAD_NM_ADDR           LOTNO_ADDR  \\\n",
      "0  a_a015688        프로방스마을  경기 파주시 탄현면 새오리로 77  경기 파주시 탄현면 성동리 82-1   \n",
      "2  a_a004293       병점역 1호선      경기 화성시 떡전골로 97     경기 화성시 진안동 824-1   \n",
      "3  a_a000491         더현대서울    서울 영등포구 여의대로 108      서울 영등포구 여의도동 22   \n",
      "4  a_a000172        강릉중앙시장       강원 강릉시 금성로 21        강원 강릉시 성남동 50   \n",
      "5  a_a000554           청계천                 NaN       서울 종로구 서린동 148   \n",
      "\n",
      "   RESIDENCE_TIME_MIN  DGSTFN  REVISIT_INTENTION  RCMDTN_INTENTION  \n",
      "0                60.0     4.0                4.0               4.0  \n",
      "2                30.0     4.0                5.0               5.0  \n",
      "3               180.0     5.0                5.0               5.0  \n",
      "4                30.0     4.0                4.0               4.0  \n",
      "5                60.0     4.0                4.0               4.0  \n"
     ]
    }
   ],
   "source": [
    "print(df_filtered.head())"
   ]
  },
  {
   "cell_type": "markdown",
   "metadata": {},
   "source": [
    "## 아파트, 오피스텔, 지하철, 펜션, 호텔값, 친척집, 사무실 제거"
   ]
  },
  {
   "cell_type": "code",
   "execution_count": 7,
   "metadata": {},
   "outputs": [
    {
     "name": "stdout",
     "output_type": "stream",
     "text": [
      "    TRAVEL_ID VISIT_AREA_NM        ROAD_NM_ADDR             LOTNO_ADDR  \\\n",
      "0   a_a015688        프로방스마을  경기 파주시 탄현면 새오리로 77    경기 파주시 탄현면 성동리 82-1   \n",
      "3   a_a000491         더현대서울    서울 영등포구 여의대로 108        서울 영등포구 여의도동 22   \n",
      "4   a_a000172        강릉중앙시장       강원 강릉시 금성로 21          강원 강릉시 성남동 50   \n",
      "5   a_a000554           청계천                 NaN         서울 종로구 서린동 148   \n",
      "8   a_a006024         장안순대국  경기 수원시 팔달구 화서문로 58    경기 수원시 팔달구 신풍동 25-1   \n",
      "10  a_a003557         유일닭강정  경기 가평군 가평읍 가화로 122   경기 가평군 가평읍 읍내리 471-2   \n",
      "11  a_a000962         숙이네닭발   서울 용산구 우사단로10길 47     서울 용산구 한남동 732-148   \n",
      "13  d_d004175    베드스테이션 선릉점    서울 강남구 선릉로92길 41      서울 강남구 삼성동 142-24   \n",
      "17  a_a003234    서울 그로서리 클럽   서울 서대문구 연희로11가길 8                    NaN   \n",
      "18  a_a004298      제부도 워터워크                 NaN  경기 화성시 서신면 송교리 377-46   \n",
      "\n",
      "    RESIDENCE_TIME_MIN  DGSTFN  REVISIT_INTENTION  RCMDTN_INTENTION  \n",
      "0                 60.0     4.0                4.0               4.0  \n",
      "3                180.0     5.0                5.0               5.0  \n",
      "4                 30.0     4.0                4.0               4.0  \n",
      "5                 60.0     4.0                4.0               4.0  \n",
      "8                 30.0     4.0                3.0               3.0  \n",
      "10                30.0     4.0                3.0               3.0  \n",
      "11               120.0     5.0                5.0               5.0  \n",
      "13               120.0     5.0                5.0               5.0  \n",
      "17                30.0     4.0                3.0               3.0  \n",
      "18                 0.0     2.0                3.0               3.0  \n"
     ]
    }
   ],
   "source": [
    "df_filtered = df_filtered[~df_filtered['VISIT_AREA_NM'].str.contains('아파트|오피스텔|호선|펜션|호텔|친척집|사무실')]\n",
    "print(df_filtered.head(10))"
   ]
  },
  {
   "cell_type": "markdown",
   "metadata": {},
   "source": [
    "## 주소 결측치, 도로명 주소로 통합 및 도로명 없을 시 원래 주소로 통합"
   ]
  },
  {
   "cell_type": "code",
   "execution_count": 8,
   "metadata": {},
   "outputs": [
    {
     "name": "stdout",
     "output_type": "stream",
     "text": [
      "    TRAVEL_ID VISIT_AREA_NM  RESIDENCE_TIME_MIN  DGSTFN  REVISIT_INTENTION  \\\n",
      "0   a_a015688        프로방스마을                60.0     4.0                4.0   \n",
      "3   a_a000491         더현대서울               180.0     5.0                5.0   \n",
      "4   a_a000172        강릉중앙시장                30.0     4.0                4.0   \n",
      "5   a_a000554           청계천                60.0     4.0                4.0   \n",
      "8   a_a006024         장안순대국                30.0     4.0                3.0   \n",
      "10  a_a003557         유일닭강정                30.0     4.0                3.0   \n",
      "11  a_a000962         숙이네닭발               120.0     5.0                5.0   \n",
      "13  d_d004175    베드스테이션 선릉점               120.0     5.0                5.0   \n",
      "17  a_a003234    서울 그로서리 클럽                30.0     4.0                3.0   \n",
      "18  a_a004298      제부도 워터워크                 0.0     2.0                3.0   \n",
      "19  a_a018121       의정부제일시장                60.0     5.0                5.0   \n",
      "20  a_a002636           서울역                 0.0     5.0                5.0   \n",
      "21  a_a006165  넘버25 수원화성행궁점               150.0     4.0                3.0   \n",
      "22  a_a009473     대소버스공동정류장                30.0     4.0                4.0   \n",
      "23  a_a004051     청주시외버스터미널                 0.0     4.0                4.0   \n",
      "\n",
      "    RCMDTN_INTENTION           COMBINED_ADDR  \n",
      "0                4.0      경기 파주시 탄현면 새오리로 77  \n",
      "3                5.0        서울 영등포구 여의대로 108  \n",
      "4                4.0           강원 강릉시 금성로 21  \n",
      "5                4.0          서울 종로구 서린동 148  \n",
      "8                3.0      경기 수원시 팔달구 화서문로 58  \n",
      "10               3.0      경기 가평군 가평읍 가화로 122  \n",
      "11               5.0       서울 용산구 우사단로10길 47  \n",
      "13               5.0        서울 강남구 선릉로92길 41  \n",
      "17               3.0       서울 서대문구 연희로11가길 8  \n",
      "18               3.0   경기 화성시 서신면 송교리 377-46  \n",
      "19               5.0      경기 의정부시 태평로73번길 20  \n",
      "20               5.0         서울 용산구 한강대로 405  \n",
      "21               3.0  경기 수원시 팔달구 정조로810번길 20  \n",
      "22               4.0      충북 음성군 대소면 산내로 308  \n",
      "23               3.0        충북 청주시 흥덕구 풍산로 6  \n"
     ]
    }
   ],
   "source": [
    "# ROAD_NM_ADDR과 LOTNO_ADDR을 하나의 열로 합치기\n",
    "df_filtered['COMBINED_ADDR'] = df_filtered['ROAD_NM_ADDR'].fillna(df_filtered['LOTNO_ADDR'])\n",
    "# 기존 열 제거\n",
    "df_filtered.drop(['ROAD_NM_ADDR', 'LOTNO_ADDR'], axis=1, inplace=True)\n",
    "# 결측치 행 제거\n",
    "df_filtered.dropna(subset=['COMBINED_ADDR'], inplace=True)\n",
    "\n",
    "print(df_filtered.head(15))"
   ]
  },
  {
   "cell_type": "markdown",
   "metadata": {},
   "source": [
    "## 만족도(DFSTFN), 재방문의도(REVISIT_INTENTION), 추천하고싶은점수(RCMDTN_INTENTION), 체류시간(RESIDENCE_TIME_MIN) 결측치 처리(중앙값)"
   ]
  },
  {
   "cell_type": "code",
   "execution_count": 9,
   "metadata": {},
   "outputs": [
    {
     "name": "stdout",
     "output_type": "stream",
     "text": [
      "    TRAVEL_ID  VISIT_AREA_NM  RESIDENCE_TIME_MIN  DGSTFN  REVISIT_INTENTION  \\\n",
      "0   a_a015688         프로방스마을                60.0     4.0                4.0   \n",
      "3   a_a000491          더현대서울               180.0     5.0                5.0   \n",
      "4   a_a000172         강릉중앙시장                30.0     4.0                4.0   \n",
      "5   a_a000554            청계천                60.0     4.0                4.0   \n",
      "8   a_a006024          장안순대국                30.0     4.0                3.0   \n",
      "10  a_a003557          유일닭강정                30.0     4.0                3.0   \n",
      "11  a_a000962          숙이네닭발               120.0     5.0                5.0   \n",
      "13  d_d004175     베드스테이션 선릉점               120.0     5.0                5.0   \n",
      "17  a_a003234     서울 그로서리 클럽                30.0     4.0                3.0   \n",
      "18  a_a004298       제부도 워터워크                 0.0     2.0                3.0   \n",
      "19  a_a018121        의정부제일시장                60.0     5.0                5.0   \n",
      "20  a_a002636            서울역                 0.0     5.0                5.0   \n",
      "21  a_a006165   넘버25 수원화성행궁점               150.0     4.0                3.0   \n",
      "22  a_a009473      대소버스공동정류장                30.0     4.0                4.0   \n",
      "23  a_a004051      청주시외버스터미널                 0.0     4.0                4.0   \n",
      "24  a_a003810          더현대서울                90.0     5.0                5.0   \n",
      "25  a_a000537            경복궁                30.0     3.0                3.0   \n",
      "26  a_a002158          도새기식당                60.0     5.0                5.0   \n",
      "28  a_a002400  갤러리아백화점 타임월드점                30.0     3.0                3.0   \n",
      "29  a_a009740         집나온거북이                60.0     4.0                3.0   \n",
      "\n",
      "    RCMDTN_INTENTION           COMBINED_ADDR  \n",
      "0                4.0      경기 파주시 탄현면 새오리로 77  \n",
      "3                5.0        서울 영등포구 여의대로 108  \n",
      "4                4.0           강원 강릉시 금성로 21  \n",
      "5                4.0          서울 종로구 서린동 148  \n",
      "8                3.0      경기 수원시 팔달구 화서문로 58  \n",
      "10               3.0      경기 가평군 가평읍 가화로 122  \n",
      "11               5.0       서울 용산구 우사단로10길 47  \n",
      "13               5.0        서울 강남구 선릉로92길 41  \n",
      "17               3.0       서울 서대문구 연희로11가길 8  \n",
      "18               3.0   경기 화성시 서신면 송교리 377-46  \n",
      "19               5.0      경기 의정부시 태평로73번길 20  \n",
      "20               5.0         서울 용산구 한강대로 405  \n",
      "21               3.0  경기 수원시 팔달구 정조로810번길 20  \n",
      "22               4.0      충북 음성군 대소면 산내로 308  \n",
      "23               3.0        충북 청주시 흥덕구 풍산로 6  \n",
      "24               5.0        서울 영등포구 여의대로 108  \n",
      "25               3.0          서울 종로구 사직로 161  \n",
      "26               5.0        서울 은평구 갈현로 254-1  \n",
      "28               3.0          대전 서구 대덕대로 211  \n",
      "29               3.0          서울 종로구 돈화문로 61  \n"
     ]
    }
   ],
   "source": [
    "tdf = df_filtered\n",
    "\n",
    "# 중앙값 계산\n",
    "median_dgstfn = tdf['DGSTFN'].median()\n",
    "median_revisit_intention = tdf['REVISIT_INTENTION'].median()\n",
    "median_rcmdtn_intention = tdf['RCMDTN_INTENTION'].median()\n",
    "median_residence_time = tdf['RESIDENCE_TIME_MIN'].median()\n",
    "\n",
    "# 결측치를 중앙값으로 대체\n",
    "tdf['DGSTFN'].fillna(median_dgstfn, inplace=True)\n",
    "tdf['REVISIT_INTENTION'].fillna(median_revisit_intention, inplace=True)\n",
    "tdf['RCMDTN_INTENTION'].fillna(median_rcmdtn_intention, inplace=True)\n",
    "tdf['RESIDENCE_TIME_MIN'].fillna(median_residence_time, inplace=True)\n",
    "\n",
    "# 결과 확인\n",
    "print(tdf.head(20))"
   ]
  },
  {
   "cell_type": "markdown",
   "metadata": {},
   "source": [
    "## 결측치 확인"
   ]
  },
  {
   "cell_type": "code",
   "execution_count": 10,
   "metadata": {},
   "outputs": [
    {
     "name": "stdout",
     "output_type": "stream",
     "text": [
      "결측치가 있는 열:\n",
      "Series([], dtype: int64)\n"
     ]
    }
   ],
   "source": [
    "#결측치 열 확인\n",
    "missing_values =  tdf.isnull().sum()\n",
    "print(\"결측치가 있는 열:\")\n",
    "print(missing_values[missing_values > 0])"
   ]
  },
  {
   "cell_type": "markdown",
   "metadata": {},
   "source": [
    "## csv로 저장"
   ]
  },
  {
   "cell_type": "code",
   "execution_count": 11,
   "metadata": {},
   "outputs": [],
   "source": [
    "tdf.to_csv('Dataset/전완_방문지데이터_1.csv', index=False)"
   ]
  },
  {
   "cell_type": "markdown",
   "metadata": {},
   "source": [
    "# 여행객 데이터 전처리 진행"
   ]
  },
  {
   "cell_type": "markdown",
   "metadata": {},
   "source": [
    "## 필요없는 칼럼 삭제"
   ]
  },
  {
   "cell_type": "code",
   "execution_count": 12,
   "metadata": {},
   "outputs": [],
   "source": [
    "df2 = pd.read_csv('Dataset\\통합_여행객데이터.csv')"
   ]
  },
  {
   "cell_type": "code",
   "execution_count": 13,
   "metadata": {},
   "outputs": [
    {
     "name": "stdout",
     "output_type": "stream",
     "text": [
      "  TRAVELER_ID GENDER  AGE_GRP  FAMILY_MEMB  TRAVEL_COMPANIONS_NUM\n",
      "0     b015583      여       20            5                      1\n",
      "1     a001105      남       30            2                      7\n",
      "2     a001673      여       30            3                      2\n",
      "3     a017690      여       30            3                      3\n",
      "4     c006666      여       30            3                      0\n"
     ]
    }
   ],
   "source": [
    "df2_copy = df2.copy()\n",
    "df2_filtered = df2_copy[['TRAVELER_ID','GENDER', 'AGE_GRP','FAMILY_MEMB','TRAVEL_COMPANIONS_NUM']]\n",
    "print(df2_filtered.head(5))"
   ]
  },
  {
   "cell_type": "code",
   "execution_count": 14,
   "metadata": {},
   "outputs": [
    {
     "name": "stdout",
     "output_type": "stream",
     "text": [
      "결측치가 있는 열:\n",
      "Series([], dtype: int64)\n"
     ]
    }
   ],
   "source": [
    "#결측치 열 확인\n",
    "missing_values =  df2_filtered.isnull().sum()\n",
    "print(\"결측치가 있는 열:\")\n",
    "print(missing_values[missing_values > 0])"
   ]
  },
  {
   "cell_type": "markdown",
   "metadata": {},
   "source": [
    "## csv로 저장"
   ]
  },
  {
   "cell_type": "code",
   "execution_count": 15,
   "metadata": {},
   "outputs": [],
   "source": [
    "df2_filtered.to_csv('Dataset/전완_여행객데이터.csv',index=False)"
   ]
  },
  {
   "cell_type": "markdown",
   "metadata": {},
   "source": [
    "### 최종 합치기"
   ]
  },
  {
   "cell_type": "code",
   "execution_count": 16,
   "metadata": {},
   "outputs": [
    {
     "name": "stdout",
     "output_type": "stream",
     "text": [
      "       TRAVEL_ID  VISIT_AREA_NM  RESIDENCE_TIME_MIN  DGSTFN  \\\n",
      "0      a_a015688         프로방스마을                60.0     4.0   \n",
      "1      a_a015688          다온무인텔               360.0     3.0   \n",
      "2      a_a015688        헤이리예술마을               150.0     4.0   \n",
      "3      a_a015688     아이노스 출판단지점                30.0     5.0   \n",
      "4      a_a015688  롯데프리미엄아울렛 파주점                90.0     5.0   \n",
      "...          ...            ...                 ...     ...   \n",
      "20769  a_a002580           평천면옥                30.0     4.0   \n",
      "20770  a_a002580          안성팜랜드                60.0     4.0   \n",
      "20771  a_a005553        을왕리해수욕장                60.0     4.0   \n",
      "20772  a_a004630           에버랜드               570.0     5.0   \n",
      "20773  a_a017925        인천차이나타운               270.0     4.0   \n",
      "\n",
      "       REVISIT_INTENTION  RCMDTN_INTENTION             COMBINED_ADDR GENDER  \\\n",
      "0                    4.0               4.0        경기 파주시 탄현면 새오리로 77      남   \n",
      "1                    2.0               3.0       경기 파주시 탄현면 성동로 7-25      남   \n",
      "2                    4.0               3.0   경기 파주시 탄현면 법흥리 1652-239      남   \n",
      "3                    4.0               5.0            경기 파주시 문발로 142      남   \n",
      "4                    5.0               5.0            경기 파주시 문발로 284      남   \n",
      "...                  ...               ...                       ...    ...   \n",
      "20769                3.0               3.0          경기 평택시 무지개공원4길 9      여   \n",
      "20770                4.0               4.0        경기 안성시 공도읍 대신두길 28      여   \n",
      "20771                4.0               4.0       경기도 수원시 팔달구 정조로 910      남   \n",
      "20772                4.0               4.0  경기 용인시 처인구 포곡읍 에버랜드로 199      여   \n",
      "20773                4.0               4.0            인천 중구 북성동2가 14      남   \n",
      "\n",
      "       AGE_GRP  FAMILY_MEMB  TRAVEL_COMPANIONS_NUM  \n",
      "0           30            3                      0  \n",
      "1           30            3                      0  \n",
      "2           30            3                      0  \n",
      "3           30            3                      0  \n",
      "4           30            3                      0  \n",
      "...        ...          ...                    ...  \n",
      "20769       40            2                      0  \n",
      "20770       40            2                      0  \n",
      "20771       30            3                      2  \n",
      "20772       20            3                      3  \n",
      "20773       30            1                      0  \n",
      "\n",
      "[20774 rows x 11 columns]\n"
     ]
    },
    {
     "ename": "PermissionError",
     "evalue": "[Errno 13] Permission denied: 'Dataset\\\\최종합데이터.csv'",
     "output_type": "error",
     "traceback": [
      "\u001b[1;31m---------------------------------------------------------------------------\u001b[0m",
      "\u001b[1;31mPermissionError\u001b[0m                           Traceback (most recent call last)",
      "Cell \u001b[1;32mIn[16], line 12\u001b[0m\n\u001b[0;32m      8\u001b[0m TOTAL_DF \u001b[38;5;241m=\u001b[39m TOTAL_DF\u001b[38;5;241m.\u001b[39mdrop(\u001b[38;5;124m'\u001b[39m\u001b[38;5;124mTRAVELER_ID\u001b[39m\u001b[38;5;124m'\u001b[39m, axis\u001b[38;5;241m=\u001b[39m\u001b[38;5;241m1\u001b[39m)\n\u001b[0;32m     10\u001b[0m \u001b[38;5;28mprint\u001b[39m(TOTAL_DF)\n\u001b[1;32m---> 12\u001b[0m \u001b[43mTOTAL_DF\u001b[49m\u001b[38;5;241;43m.\u001b[39;49m\u001b[43mto_csv\u001b[49m\u001b[43m(\u001b[49m\u001b[38;5;124;43m'\u001b[39;49m\u001b[38;5;124;43mDataset\u001b[39;49m\u001b[38;5;124;43m\\\u001b[39;49m\u001b[38;5;124;43m최종합데이터.csv\u001b[39;49m\u001b[38;5;124;43m'\u001b[39;49m\u001b[43m)\u001b[49m\n",
      "File \u001b[1;32mc:\\Users\\kwonh\\anaconda3\\envs\\AllLeave\\Lib\\site-packages\\pandas\\util\\_decorators.py:211\u001b[0m, in \u001b[0;36mdeprecate_kwarg.<locals>._deprecate_kwarg.<locals>.wrapper\u001b[1;34m(*args, **kwargs)\u001b[0m\n\u001b[0;32m    209\u001b[0m     \u001b[38;5;28;01melse\u001b[39;00m:\n\u001b[0;32m    210\u001b[0m         kwargs[new_arg_name] \u001b[38;5;241m=\u001b[39m new_arg_value\n\u001b[1;32m--> 211\u001b[0m \u001b[38;5;28;01mreturn\u001b[39;00m \u001b[43mfunc\u001b[49m\u001b[43m(\u001b[49m\u001b[38;5;241;43m*\u001b[39;49m\u001b[43margs\u001b[49m\u001b[43m,\u001b[49m\u001b[43m \u001b[49m\u001b[38;5;241;43m*\u001b[39;49m\u001b[38;5;241;43m*\u001b[39;49m\u001b[43mkwargs\u001b[49m\u001b[43m)\u001b[49m\n",
      "File \u001b[1;32mc:\\Users\\kwonh\\anaconda3\\envs\\AllLeave\\Lib\\site-packages\\pandas\\core\\generic.py:3720\u001b[0m, in \u001b[0;36mNDFrame.to_csv\u001b[1;34m(self, path_or_buf, sep, na_rep, float_format, columns, header, index, index_label, mode, encoding, compression, quoting, quotechar, lineterminator, chunksize, date_format, doublequote, escapechar, decimal, errors, storage_options)\u001b[0m\n\u001b[0;32m   3709\u001b[0m df \u001b[38;5;241m=\u001b[39m \u001b[38;5;28mself\u001b[39m \u001b[38;5;28;01mif\u001b[39;00m \u001b[38;5;28misinstance\u001b[39m(\u001b[38;5;28mself\u001b[39m, ABCDataFrame) \u001b[38;5;28;01melse\u001b[39;00m \u001b[38;5;28mself\u001b[39m\u001b[38;5;241m.\u001b[39mto_frame()\n\u001b[0;32m   3711\u001b[0m formatter \u001b[38;5;241m=\u001b[39m DataFrameFormatter(\n\u001b[0;32m   3712\u001b[0m     frame\u001b[38;5;241m=\u001b[39mdf,\n\u001b[0;32m   3713\u001b[0m     header\u001b[38;5;241m=\u001b[39mheader,\n\u001b[1;32m   (...)\u001b[0m\n\u001b[0;32m   3717\u001b[0m     decimal\u001b[38;5;241m=\u001b[39mdecimal,\n\u001b[0;32m   3718\u001b[0m )\n\u001b[1;32m-> 3720\u001b[0m \u001b[38;5;28;01mreturn\u001b[39;00m \u001b[43mDataFrameRenderer\u001b[49m\u001b[43m(\u001b[49m\u001b[43mformatter\u001b[49m\u001b[43m)\u001b[49m\u001b[38;5;241;43m.\u001b[39;49m\u001b[43mto_csv\u001b[49m\u001b[43m(\u001b[49m\n\u001b[0;32m   3721\u001b[0m \u001b[43m    \u001b[49m\u001b[43mpath_or_buf\u001b[49m\u001b[43m,\u001b[49m\n\u001b[0;32m   3722\u001b[0m \u001b[43m    \u001b[49m\u001b[43mlineterminator\u001b[49m\u001b[38;5;241;43m=\u001b[39;49m\u001b[43mlineterminator\u001b[49m\u001b[43m,\u001b[49m\n\u001b[0;32m   3723\u001b[0m \u001b[43m    \u001b[49m\u001b[43msep\u001b[49m\u001b[38;5;241;43m=\u001b[39;49m\u001b[43msep\u001b[49m\u001b[43m,\u001b[49m\n\u001b[0;32m   3724\u001b[0m \u001b[43m    \u001b[49m\u001b[43mencoding\u001b[49m\u001b[38;5;241;43m=\u001b[39;49m\u001b[43mencoding\u001b[49m\u001b[43m,\u001b[49m\n\u001b[0;32m   3725\u001b[0m \u001b[43m    \u001b[49m\u001b[43merrors\u001b[49m\u001b[38;5;241;43m=\u001b[39;49m\u001b[43merrors\u001b[49m\u001b[43m,\u001b[49m\n\u001b[0;32m   3726\u001b[0m \u001b[43m    \u001b[49m\u001b[43mcompression\u001b[49m\u001b[38;5;241;43m=\u001b[39;49m\u001b[43mcompression\u001b[49m\u001b[43m,\u001b[49m\n\u001b[0;32m   3727\u001b[0m \u001b[43m    \u001b[49m\u001b[43mquoting\u001b[49m\u001b[38;5;241;43m=\u001b[39;49m\u001b[43mquoting\u001b[49m\u001b[43m,\u001b[49m\n\u001b[0;32m   3728\u001b[0m \u001b[43m    \u001b[49m\u001b[43mcolumns\u001b[49m\u001b[38;5;241;43m=\u001b[39;49m\u001b[43mcolumns\u001b[49m\u001b[43m,\u001b[49m\n\u001b[0;32m   3729\u001b[0m \u001b[43m    \u001b[49m\u001b[43mindex_label\u001b[49m\u001b[38;5;241;43m=\u001b[39;49m\u001b[43mindex_label\u001b[49m\u001b[43m,\u001b[49m\n\u001b[0;32m   3730\u001b[0m \u001b[43m    \u001b[49m\u001b[43mmode\u001b[49m\u001b[38;5;241;43m=\u001b[39;49m\u001b[43mmode\u001b[49m\u001b[43m,\u001b[49m\n\u001b[0;32m   3731\u001b[0m \u001b[43m    \u001b[49m\u001b[43mchunksize\u001b[49m\u001b[38;5;241;43m=\u001b[39;49m\u001b[43mchunksize\u001b[49m\u001b[43m,\u001b[49m\n\u001b[0;32m   3732\u001b[0m \u001b[43m    \u001b[49m\u001b[43mquotechar\u001b[49m\u001b[38;5;241;43m=\u001b[39;49m\u001b[43mquotechar\u001b[49m\u001b[43m,\u001b[49m\n\u001b[0;32m   3733\u001b[0m \u001b[43m    \u001b[49m\u001b[43mdate_format\u001b[49m\u001b[38;5;241;43m=\u001b[39;49m\u001b[43mdate_format\u001b[49m\u001b[43m,\u001b[49m\n\u001b[0;32m   3734\u001b[0m \u001b[43m    \u001b[49m\u001b[43mdoublequote\u001b[49m\u001b[38;5;241;43m=\u001b[39;49m\u001b[43mdoublequote\u001b[49m\u001b[43m,\u001b[49m\n\u001b[0;32m   3735\u001b[0m \u001b[43m    \u001b[49m\u001b[43mescapechar\u001b[49m\u001b[38;5;241;43m=\u001b[39;49m\u001b[43mescapechar\u001b[49m\u001b[43m,\u001b[49m\n\u001b[0;32m   3736\u001b[0m \u001b[43m    \u001b[49m\u001b[43mstorage_options\u001b[49m\u001b[38;5;241;43m=\u001b[39;49m\u001b[43mstorage_options\u001b[49m\u001b[43m,\u001b[49m\n\u001b[0;32m   3737\u001b[0m \u001b[43m\u001b[49m\u001b[43m)\u001b[49m\n",
      "File \u001b[1;32mc:\\Users\\kwonh\\anaconda3\\envs\\AllLeave\\Lib\\site-packages\\pandas\\util\\_decorators.py:211\u001b[0m, in \u001b[0;36mdeprecate_kwarg.<locals>._deprecate_kwarg.<locals>.wrapper\u001b[1;34m(*args, **kwargs)\u001b[0m\n\u001b[0;32m    209\u001b[0m     \u001b[38;5;28;01melse\u001b[39;00m:\n\u001b[0;32m    210\u001b[0m         kwargs[new_arg_name] \u001b[38;5;241m=\u001b[39m new_arg_value\n\u001b[1;32m--> 211\u001b[0m \u001b[38;5;28;01mreturn\u001b[39;00m \u001b[43mfunc\u001b[49m\u001b[43m(\u001b[49m\u001b[38;5;241;43m*\u001b[39;49m\u001b[43margs\u001b[49m\u001b[43m,\u001b[49m\u001b[43m \u001b[49m\u001b[38;5;241;43m*\u001b[39;49m\u001b[38;5;241;43m*\u001b[39;49m\u001b[43mkwargs\u001b[49m\u001b[43m)\u001b[49m\n",
      "File \u001b[1;32mc:\\Users\\kwonh\\anaconda3\\envs\\AllLeave\\Lib\\site-packages\\pandas\\io\\formats\\format.py:1189\u001b[0m, in \u001b[0;36mDataFrameRenderer.to_csv\u001b[1;34m(self, path_or_buf, encoding, sep, columns, index_label, mode, compression, quoting, quotechar, lineterminator, chunksize, date_format, doublequote, escapechar, errors, storage_options)\u001b[0m\n\u001b[0;32m   1168\u001b[0m     created_buffer \u001b[38;5;241m=\u001b[39m \u001b[38;5;28;01mFalse\u001b[39;00m\n\u001b[0;32m   1170\u001b[0m csv_formatter \u001b[38;5;241m=\u001b[39m CSVFormatter(\n\u001b[0;32m   1171\u001b[0m     path_or_buf\u001b[38;5;241m=\u001b[39mpath_or_buf,\n\u001b[0;32m   1172\u001b[0m     lineterminator\u001b[38;5;241m=\u001b[39mlineterminator,\n\u001b[1;32m   (...)\u001b[0m\n\u001b[0;32m   1187\u001b[0m     formatter\u001b[38;5;241m=\u001b[39m\u001b[38;5;28mself\u001b[39m\u001b[38;5;241m.\u001b[39mfmt,\n\u001b[0;32m   1188\u001b[0m )\n\u001b[1;32m-> 1189\u001b[0m \u001b[43mcsv_formatter\u001b[49m\u001b[38;5;241;43m.\u001b[39;49m\u001b[43msave\u001b[49m\u001b[43m(\u001b[49m\u001b[43m)\u001b[49m\n\u001b[0;32m   1191\u001b[0m \u001b[38;5;28;01mif\u001b[39;00m created_buffer:\n\u001b[0;32m   1192\u001b[0m     \u001b[38;5;28;01massert\u001b[39;00m \u001b[38;5;28misinstance\u001b[39m(path_or_buf, StringIO)\n",
      "File \u001b[1;32mc:\\Users\\kwonh\\anaconda3\\envs\\AllLeave\\Lib\\site-packages\\pandas\\io\\formats\\csvs.py:241\u001b[0m, in \u001b[0;36mCSVFormatter.save\u001b[1;34m(self)\u001b[0m\n\u001b[0;32m    237\u001b[0m \u001b[38;5;250m\u001b[39m\u001b[38;5;124;03m\"\"\"\u001b[39;00m\n\u001b[0;32m    238\u001b[0m \u001b[38;5;124;03mCreate the writer & save.\u001b[39;00m\n\u001b[0;32m    239\u001b[0m \u001b[38;5;124;03m\"\"\"\u001b[39;00m\n\u001b[0;32m    240\u001b[0m \u001b[38;5;66;03m# apply compression and byte/text conversion\u001b[39;00m\n\u001b[1;32m--> 241\u001b[0m \u001b[38;5;28;01mwith\u001b[39;00m \u001b[43mget_handle\u001b[49m\u001b[43m(\u001b[49m\n\u001b[0;32m    242\u001b[0m \u001b[43m    \u001b[49m\u001b[38;5;28;43mself\u001b[39;49m\u001b[38;5;241;43m.\u001b[39;49m\u001b[43mfilepath_or_buffer\u001b[49m\u001b[43m,\u001b[49m\n\u001b[0;32m    243\u001b[0m \u001b[43m    \u001b[49m\u001b[38;5;28;43mself\u001b[39;49m\u001b[38;5;241;43m.\u001b[39;49m\u001b[43mmode\u001b[49m\u001b[43m,\u001b[49m\n\u001b[0;32m    244\u001b[0m \u001b[43m    \u001b[49m\u001b[43mencoding\u001b[49m\u001b[38;5;241;43m=\u001b[39;49m\u001b[38;5;28;43mself\u001b[39;49m\u001b[38;5;241;43m.\u001b[39;49m\u001b[43mencoding\u001b[49m\u001b[43m,\u001b[49m\n\u001b[0;32m    245\u001b[0m \u001b[43m    \u001b[49m\u001b[43merrors\u001b[49m\u001b[38;5;241;43m=\u001b[39;49m\u001b[38;5;28;43mself\u001b[39;49m\u001b[38;5;241;43m.\u001b[39;49m\u001b[43merrors\u001b[49m\u001b[43m,\u001b[49m\n\u001b[0;32m    246\u001b[0m \u001b[43m    \u001b[49m\u001b[43mcompression\u001b[49m\u001b[38;5;241;43m=\u001b[39;49m\u001b[38;5;28;43mself\u001b[39;49m\u001b[38;5;241;43m.\u001b[39;49m\u001b[43mcompression\u001b[49m\u001b[43m,\u001b[49m\n\u001b[0;32m    247\u001b[0m \u001b[43m    \u001b[49m\u001b[43mstorage_options\u001b[49m\u001b[38;5;241;43m=\u001b[39;49m\u001b[38;5;28;43mself\u001b[39;49m\u001b[38;5;241;43m.\u001b[39;49m\u001b[43mstorage_options\u001b[49m\u001b[43m,\u001b[49m\n\u001b[0;32m    248\u001b[0m \u001b[43m\u001b[49m\u001b[43m)\u001b[49m \u001b[38;5;28;01mas\u001b[39;00m handles:\n\u001b[0;32m    249\u001b[0m \n\u001b[0;32m    250\u001b[0m     \u001b[38;5;66;03m# Note: self.encoding is irrelevant here\u001b[39;00m\n\u001b[0;32m    251\u001b[0m     \u001b[38;5;28mself\u001b[39m\u001b[38;5;241m.\u001b[39mwriter \u001b[38;5;241m=\u001b[39m csvlib\u001b[38;5;241m.\u001b[39mwriter(\n\u001b[0;32m    252\u001b[0m         handles\u001b[38;5;241m.\u001b[39mhandle,\n\u001b[0;32m    253\u001b[0m         lineterminator\u001b[38;5;241m=\u001b[39m\u001b[38;5;28mself\u001b[39m\u001b[38;5;241m.\u001b[39mlineterminator,\n\u001b[1;32m   (...)\u001b[0m\n\u001b[0;32m    258\u001b[0m         quotechar\u001b[38;5;241m=\u001b[39m\u001b[38;5;28mself\u001b[39m\u001b[38;5;241m.\u001b[39mquotechar,\n\u001b[0;32m    259\u001b[0m     )\n\u001b[0;32m    261\u001b[0m     \u001b[38;5;28mself\u001b[39m\u001b[38;5;241m.\u001b[39m_save()\n",
      "File \u001b[1;32mc:\\Users\\kwonh\\anaconda3\\envs\\AllLeave\\Lib\\site-packages\\pandas\\io\\common.py:856\u001b[0m, in \u001b[0;36mget_handle\u001b[1;34m(path_or_buf, mode, encoding, compression, memory_map, is_text, errors, storage_options)\u001b[0m\n\u001b[0;32m    851\u001b[0m \u001b[38;5;28;01melif\u001b[39;00m \u001b[38;5;28misinstance\u001b[39m(handle, \u001b[38;5;28mstr\u001b[39m):\n\u001b[0;32m    852\u001b[0m     \u001b[38;5;66;03m# Check whether the filename is to be opened in binary mode.\u001b[39;00m\n\u001b[0;32m    853\u001b[0m     \u001b[38;5;66;03m# Binary mode does not support 'encoding' and 'newline'.\u001b[39;00m\n\u001b[0;32m    854\u001b[0m     \u001b[38;5;28;01mif\u001b[39;00m ioargs\u001b[38;5;241m.\u001b[39mencoding \u001b[38;5;129;01mand\u001b[39;00m \u001b[38;5;124m\"\u001b[39m\u001b[38;5;124mb\u001b[39m\u001b[38;5;124m\"\u001b[39m \u001b[38;5;129;01mnot\u001b[39;00m \u001b[38;5;129;01min\u001b[39;00m ioargs\u001b[38;5;241m.\u001b[39mmode:\n\u001b[0;32m    855\u001b[0m         \u001b[38;5;66;03m# Encoding\u001b[39;00m\n\u001b[1;32m--> 856\u001b[0m         handle \u001b[38;5;241m=\u001b[39m \u001b[38;5;28mopen\u001b[39m(\n\u001b[0;32m    857\u001b[0m             handle,\n\u001b[0;32m    858\u001b[0m             ioargs\u001b[38;5;241m.\u001b[39mmode,\n\u001b[0;32m    859\u001b[0m             encoding\u001b[38;5;241m=\u001b[39mioargs\u001b[38;5;241m.\u001b[39mencoding,\n\u001b[0;32m    860\u001b[0m             errors\u001b[38;5;241m=\u001b[39merrors,\n\u001b[0;32m    861\u001b[0m             newline\u001b[38;5;241m=\u001b[39m\u001b[38;5;124m\"\u001b[39m\u001b[38;5;124m\"\u001b[39m,\n\u001b[0;32m    862\u001b[0m         )\n\u001b[0;32m    863\u001b[0m     \u001b[38;5;28;01melse\u001b[39;00m:\n\u001b[0;32m    864\u001b[0m         \u001b[38;5;66;03m# Binary mode\u001b[39;00m\n\u001b[0;32m    865\u001b[0m         handle \u001b[38;5;241m=\u001b[39m \u001b[38;5;28mopen\u001b[39m(handle, ioargs\u001b[38;5;241m.\u001b[39mmode)\n",
      "\u001b[1;31mPermissionError\u001b[0m: [Errno 13] Permission denied: 'Dataset\\\\최종합데이터.csv'"
     ]
    }
   ],
   "source": [
    "mdf1 = pd.read_csv('Dataset\\전완_방문지데이터.csv')\n",
    "mdf2 = pd.read_csv('Dataset\\전완_여행객데이터.csv')\n",
    "\n",
    "mdf1['TRAVELER_ID'] = mdf1['TRAVEL_ID'].str.slice(2)\n",
    "TOTAL_DF = pd.merge(mdf1, mdf2, left_on='TRAVELER_ID', right_on='TRAVELER_ID', how = 'inner')\n",
    "\n",
    "#traveler id 제거\n",
    "TOTAL_DF = TOTAL_DF.drop('TRAVELER_ID', axis=1)\n",
    "\n",
    "print(TOTAL_DF)\n",
    "\n",
    "TOTAL_DF.to_csv('Dataset\\최종합데이터.csv')"
   ]
  },
  {
   "cell_type": "markdown",
   "metadata": {},
   "source": [
    "# 그래프 확인"
   ]
  },
  {
   "cell_type": "code",
   "execution_count": 17,
   "metadata": {},
   "outputs": [
    {
     "name": "stderr",
     "output_type": "stream",
     "text": [
      "c:\\Users\\kwonh\\anaconda3\\envs\\AllLeave\\Lib\\site-packages\\tqdm\\auto.py:21: TqdmWarning: IProgress not found. Please update jupyter and ipywidgets. See https://ipywidgets.readthedocs.io/en/stable/user_install.html\n",
      "  from .autonotebook import tqdm as notebook_tqdm\n"
     ]
    },
    {
     "name": "stdout",
     "output_type": "stream",
     "text": [
      "Total graphs created: 3522\n",
      "First graph details:\n",
      "Number of nodes: 2\n",
      "Number of edges: 1\n",
      "Node features shape: torch.Size([2, 3])\n",
      "Edge index shape: torch.Size([2, 1])\n",
      "Edge attributes shape: torch.Size([1, 1])\n"
     ]
    }
   ],
   "source": [
    "import csv2graph as cg\n",
    "\n",
    "path = 'Dataset/최종합데이터.csv'\n",
    "c2g = cg.csv2graph_D(path)\n",
    "c2g.convert_to_graph()\n",
    "c2g.convert_to_pyg_data()\n",
    "pyg_graphs = c2g.get_pyg_graphs()\n",
    "\n",
    "# 생성된 PyTorch Geometric 데이터 확인\n",
    "print(f\"Total graphs created: {len(pyg_graphs)}\")\n",
    "if len(pyg_graphs) > 0:\n",
    "    first_graph = pyg_graphs[0]\n",
    "    print(\"First graph details:\")\n",
    "    print(f\"Number of nodes: {first_graph.num_nodes}\")\n",
    "    print(f\"Number of edges: {first_graph.num_edges}\")\n",
    "    print(f\"Node features shape: {first_graph.x.shape}\")\n",
    "    print(f\"Edge index shape: {first_graph.edge_index.shape}\")\n",
    "    if first_graph.edge_attr is not None:\n",
    "        print(f\"Edge attributes shape: {first_graph.edge_attr.shape}\")"
   ]
  },
  {
   "cell_type": "code",
   "execution_count": 34,
   "metadata": {},
   "outputs": [
    {
     "data": {
      "image/png": "[encoded data removed]",
      "text/plain": [
       "<Figure size 640x480 with 1 Axes>"
      ]
     },
     "metadata": {},
     "output_type": "display_data"
    }
   ],
   "source": [
    "import matplotlib.pyplot as plt\n",
    "import networkx as nx\n",
    "\n",
    "def visualize_pyg_data(pyg_data):\n",
    "    # PyTorch Geometric 데이터에서 NetworkX 그래프로 변환\n",
    "    G = nx.Graph()\n",
    "    edge_index = pyg_data.edge_index.numpy()\n",
    "    edges = zip(edge_index[0], edge_index[1])\n",
    "    G.add_edges_from(edges)\n",
    "    \n",
    "    # 노드 위치 결정\n",
    "    pos = nx.spring_layout(G)\n",
    "    \n",
    "    # 노드와 엣지 그리기\n",
    "    nx.draw(G, pos, with_labels=True, node_color='skyblue', node_size=700, edge_color='k')\n",
    "    \n",
    "    # 엣지 가중치 레이블 추가 (있는 경우)\n",
    "    if pyg_data.edge_attr is not None:\n",
    "        edge_weights = { (u, v): pyg_data.edge_attr[i].item() for i, (u, v) in enumerate(G.edges()) }\n",
    "        nx.draw_networkx_edge_labels(G, pos, edge_labels=edge_weights)\n",
    "\n",
    "    plt.show()\n",
    "\n",
    "# 첫 번째 PyTorch Geometric 데이터 시각화\n",
    "if len(pyg_graphs) > 0:\n",
    "    visualize_pyg_data(pyg_graphs[3521])\n"
   ]
  }
 ],
 "metadata": {
  "kernelspec": {
   "display_name": "AllLeave",
   "language": "python",
   "name": "python3"
  },
  "language_info": {
   "codemirror_mode": {
    "name": "ipython",
    "version": 3
   },
   "file_extension": ".py",
   "mimetype": "text/x-python",
   "name": "python",
   "nbconvert_exporter": "python",
   "pygments_lexer": "ipython3",
   "version": "3.11.4"
  }
 },
 "nbformat": 4,
 "nbformat_minor": 2
}
